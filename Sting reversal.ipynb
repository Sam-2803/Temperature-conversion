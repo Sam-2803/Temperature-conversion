{
 "cells": [
  {
   "cell_type": "code",
   "execution_count": null,
   "id": "56d140d3",
   "metadata": {},
   "outputs": [],
   "source": [
    "ef reverse_string(s):\n",
    "    return s[::-1]\n",
    "\n",
    "text = input(\"Enter a string to reverse: \")\n",
    "print(\"Reversed string:\", reverse_string(text))"
   ]
  }
 ],
 "metadata": {
  "language_info": {
   "name": "python"
  }
 },
 "nbformat": 4,
 "nbformat_minor": 5
}
