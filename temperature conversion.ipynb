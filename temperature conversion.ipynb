{
 "cells": [
  {
   "cell_type": "code",
   "execution_count": null,
   "id": "6d7db6e2",
   "metadata": {},
   "outputs": [],
   "source": [
    "def celsius_to_fahrenheit(celsius):\n",
    "    return (celsius * 9/5) + 32\n",
    "\n",
    "def fahrenheit_to_celsius(fahrenheit):\n",
    "    return (fahrenheit - 32) * 5/9\n",
    "\n",
    "temp = float(input(\"Enter the temperature value: \"))\n",
    "unit = input(\"Enter the unit (C for Celsius, F for Fahrenheit): \").strip().upper()\n",
    "\n",
    "if unit == 'C':\n",
    "    converted = celsius_to_fahrenheit(temp)\n",
    "    print(f\"{temp}°C is equal to {converted:.2f}°F.\")\n",
    "elif unit == 'F':\n",
    "    converted = fahrenheit_to_celsius(temp)\n",
    "    print(f\"{temp}°F is equal to {converted:.2f}°C.\")\n",
    "else:\n",
    "    print(\"Invalid unit entered. Please enter 'C' or 'F'.\")"
   ]
  }
 ],
 "metadata": {
  "kernelspec": {
   "display_name": "Python 3",
   "language": "python",
   "name": "python3"
  },
  "language_info": {
   "name": "python",
   "version": "3.13.5"
  }
 },
 "nbformat": 4,
 "nbformat_minor": 5
}
